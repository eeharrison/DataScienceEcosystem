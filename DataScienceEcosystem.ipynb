{
 "cells": [
  {
   "cell_type": "markdown",
   "id": "4f429f52-fc1a-441f-b286-2455ad20c391",
   "metadata": {},
   "source": [
    "# Data Science Tools and Ecosystem"
   ]
  },
  {
   "cell_type": "markdown",
   "id": "b619bf69-fd08-4d44-aa87-bfb62d038e88",
   "metadata": {},
   "source": [
    "## In this notebook, Data Science Tools and Ecosystem are summarized."
   ]
  },
  {
   "cell_type": "markdown",
   "id": "34a22b02-55e2-4d5b-88e8-f1edb8f593ee",
   "metadata": {},
   "source": [
    "### Some of the popular languages that Data Scientists use are:"
   ]
  },
  {
   "cell_type": "markdown",
   "id": "553a8e07-c2ac-46ef-a674-dd199e87df28",
   "metadata": {},
   "source": [
    "1. Python\n",
    "2. R\n",
    "3. Julia"
   ]
  },
  {
   "cell_type": "markdown",
   "id": "a1c4a1ef-eb02-4394-8b56-85ae2b3643bc",
   "metadata": {},
   "source": [
    "### Some of the commonly used libraries used by Data Scientists include:"
   ]
  },
  {
   "cell_type": "markdown",
   "id": "217185ec-17b9-41f1-822c-ee10e9017fd4",
   "metadata": {},
   "source": [
    "1. Matplotlib\n",
    "2. scikit- learn\n",
    "3. pandas\n",
    "4. numpy"
   ]
  },
  {
   "cell_type": "markdown",
   "id": "e95927d8-a2a4-4b62-97c9-5b6fe1deda23",
   "metadata": {},
   "source": [
    "| Data Science Tools |\n",
    "|--------------------|\n",
    "| Jupyter |\n",
    "| Pytorch |\n",
    "| Weka |\n"
   ]
  },
  {
   "cell_type": "markdown",
   "id": "25bf3692-aeeb-4198-b992-65110bc4935b",
   "metadata": {},
   "source": [
    "### Below are a few examples of evaluating arithmetic expressions in Python"
   ]
  },
  {
   "cell_type": "code",
   "execution_count": 2,
   "id": "37b0543c-ed7b-4dae-9f0c-b68dd7398001",
   "metadata": {},
   "outputs": [
    {
     "data": {
      "text/plain": [
       "17"
      ]
     },
     "execution_count": 2,
     "metadata": {},
     "output_type": "execute_result"
    }
   ],
   "source": [
    "#This a simple arithmetic expression to mutiply then add integers\n",
    "(3*4)+5"
   ]
  },
  {
   "cell_type": "code",
   "execution_count": 3,
   "id": "56c839c8-be44-418f-be4a-3489ffa8b2c4",
   "metadata": {},
   "outputs": [
    {
     "data": {
      "text/plain": [
       "3.3333333333333335"
      ]
     },
     "execution_count": 3,
     "metadata": {},
     "output_type": "execute_result"
    }
   ],
   "source": [
    "#This will convert 200 minutes to hours by diving by 60\n",
    "200/60"
   ]
  },
  {
   "cell_type": "markdown",
   "id": "9a4f1df8-61e8-4825-ae4a-d5104cb55a73",
   "metadata": {},
   "source": [
    "**Objectives:**"
   ]
  },
  {
   "cell_type": "markdown",
   "id": "7d85b2a3-4ac5-4ff5-94f3-81381ad4d65c",
   "metadata": {},
   "source": [
    "- Popular languages for data science\n",
    "- Commonly used Libraries for Data science\n",
    "- Evaluating arithemtic expressions in python"
   ]
  },
  {
   "cell_type": "markdown",
   "id": "b0e306f3-e99f-472b-97c6-6ea902f24555",
   "metadata": {},
   "source": [
    "## Author\n",
    "Emily Harrison"
   ]
  },
  {
   "cell_type": "code",
   "execution_count": null,
   "id": "019b2e7f-2f0f-4930-bebf-b7e46f9fe0c7",
   "metadata": {},
   "outputs": [],
   "source": []
  }
 ],
 "metadata": {
  "kernelspec": {
   "display_name": "Python (myenv)",
   "language": "python",
   "name": "myenv"
  },
  "language_info": {
   "codemirror_mode": {
    "name": "ipython",
    "version": 3
   },
   "file_extension": ".py",
   "mimetype": "text/x-python",
   "name": "python",
   "nbconvert_exporter": "python",
   "pygments_lexer": "ipython3",
   "version": "3.12.7"
  }
 },
 "nbformat": 4,
 "nbformat_minor": 5
}
